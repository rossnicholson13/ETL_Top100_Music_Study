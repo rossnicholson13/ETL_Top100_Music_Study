{
 "cells": [
  {
   "cell_type": "code",
   "execution_count": 56,
   "metadata": {},
   "outputs": [],
   "source": [
    "#Using Spotipy, a lightweight Python library for the Spotify Web API. Guide at link below\n",
    "#https://spotipy.readthedocs.io/en/latest/#\n",
    "%matplotlib inline\n",
    "from matplotlib import style\n",
    "style.use('fivethirtyeight')\n",
    "import spotipy, sys, csv\n",
    "import pprint as pp\n",
    "import matplotlib.pyplot as plt\n",
    "import pandas as pd\n",
    "import numpy as np\n",
    "from spotipy.oauth2 import SpotifyClientCredentials\n",
    "\n",
    "#Load Application ID and API Key for Spotify API\n",
    "client_credentials_manager = SpotifyClientCredentials(client_id='0de0796ce8d6430d9896525ccb8c845d',\n",
    "                                                      client_secret='4b1c63bc8de34e7a9cc75b105f3c3875')\n",
    "spotify = spotipy.Spotify(client_credentials_manager=client_credentials_manager)"
   ]
  },
  {
   "cell_type": "code",
   "execution_count": 12,
   "metadata": {},
   "outputs": [],
   "source": [
    "#Read in csv of Singles and convert to DataFrame\n",
    "top100singles = pd.read_csv('top100singles.csv')\n",
    "list_of_dicts = []\n",
    "\n",
    "#Loop Through all Singles in top100 singles csv\n",
    "for index,row in top100singles.iterrows():\n",
    "    \n",
    "    title_and_artist = row['Single'] + ' ' + row['Artist']\n",
    "\n",
    "    #Make API Call using search method, querying for \"Title, Artist\"\n",
    "    #Limit to just the top response\n",
    "    results = spotify.search(q=title_and_artist, type='track',limit=1)\n",
    "\n",
    "    #temporary dictionary to store all of the track details\n",
    "    temp = {}\n",
    "    temp['name'] = results['tracks']['items'][0]['name']\n",
    "    temp['popularity'] = results['tracks']['items'][0]['popularity']\n",
    "\n",
    "    #if there are multiple artist on album, store as one value separated by commas\n",
    "    multi_Artist = False\n",
    "    for j in range(len(results['tracks']['items'][0]['artists'])):\n",
    "        if multi_Artist == False:\n",
    "            temp['artists'] = results['tracks']['items'][0]['artists'][j]['name']\n",
    "            multi_Artist = True\n",
    "        else:\n",
    "            temp['artists'] = temp['artists'] + ', ' + results['tracks']['items'][0]['artists'][j]['name']\n",
    "\n",
    "    list_of_dicts.append(temp)"
   ]
  },
  {
   "cell_type": "code",
   "execution_count": 13,
   "metadata": {},
   "outputs": [
    {
     "data": {
      "text/html": [
       "<div>\n",
       "<style scoped>\n",
       "    .dataframe tbody tr th:only-of-type {\n",
       "        vertical-align: middle;\n",
       "    }\n",
       "\n",
       "    .dataframe tbody tr th {\n",
       "        vertical-align: top;\n",
       "    }\n",
       "\n",
       "    .dataframe thead th {\n",
       "        text-align: right;\n",
       "    }\n",
       "</style>\n",
       "<table border=\"1\" class=\"dataframe\">\n",
       "  <thead>\n",
       "    <tr style=\"text-align: right;\">\n",
       "      <th></th>\n",
       "      <th>Artist(s)</th>\n",
       "      <th>Title (Spotify)</th>\n",
       "      <th>Popularity</th>\n",
       "    </tr>\n",
       "  </thead>\n",
       "  <tbody>\n",
       "    <tr>\n",
       "      <th>0</th>\n",
       "      <td>Bing Crosby, Ken Darby Singers, John Scott Tro...</td>\n",
       "      <td>White Christmas</td>\n",
       "      <td>72</td>\n",
       "    </tr>\n",
       "    <tr>\n",
       "      <th>1</th>\n",
       "      <td>Elton John</td>\n",
       "      <td>Something About The Way You Look Tonight - Edi...</td>\n",
       "      <td>60</td>\n",
       "    </tr>\n",
       "    <tr>\n",
       "      <th>2</th>\n",
       "      <td>Mungo Jerry</td>\n",
       "      <td>In the Summertime</td>\n",
       "      <td>67</td>\n",
       "    </tr>\n",
       "    <tr>\n",
       "      <th>3</th>\n",
       "      <td>Bing Crosby</td>\n",
       "      <td>Silent Night</td>\n",
       "      <td>47</td>\n",
       "    </tr>\n",
       "    <tr>\n",
       "      <th>4</th>\n",
       "      <td>Bill Haley &amp; His Comets</td>\n",
       "      <td>(We're Gonna) Rock Around The Clock</td>\n",
       "      <td>61</td>\n",
       "    </tr>\n",
       "  </tbody>\n",
       "</table>\n",
       "</div>"
      ],
      "text/plain": [
       "                                           Artist(s)  \\\n",
       "0  Bing Crosby, Ken Darby Singers, John Scott Tro...   \n",
       "1                                         Elton John   \n",
       "2                                        Mungo Jerry   \n",
       "3                                        Bing Crosby   \n",
       "4                            Bill Haley & His Comets   \n",
       "\n",
       "                                     Title (Spotify)  Popularity  \n",
       "0                                    White Christmas          72  \n",
       "1  Something About The Way You Look Tonight - Edi...          60  \n",
       "2                                  In the Summertime          67  \n",
       "3                                       Silent Night          47  \n",
       "4                (We're Gonna) Rock Around The Clock          61  "
      ]
     },
     "execution_count": 13,
     "metadata": {},
     "output_type": "execute_result"
    }
   ],
   "source": [
    "#convert list of dictionaries to DataFrame, make index start at 1 instead of 0\n",
    "df = pd.DataFrame(list_of_dicts)\n",
    "df.columns = ['Artist(s)', 'Title (Spotify)','Popularity']\n",
    "df.head()"
   ]
  },
  {
   "cell_type": "code",
   "execution_count": 101,
   "metadata": {},
   "outputs": [
    {
     "data": {
      "text/html": [
       "<div>\n",
       "<style scoped>\n",
       "    .dataframe tbody tr th:only-of-type {\n",
       "        vertical-align: middle;\n",
       "    }\n",
       "\n",
       "    .dataframe tbody tr th {\n",
       "        vertical-align: top;\n",
       "    }\n",
       "\n",
       "    .dataframe thead th {\n",
       "        text-align: right;\n",
       "    }\n",
       "</style>\n",
       "<table border=\"1\" class=\"dataframe\">\n",
       "  <thead>\n",
       "    <tr style=\"text-align: right;\">\n",
       "      <th></th>\n",
       "      <th>Artist</th>\n",
       "      <th>Single</th>\n",
       "      <th>Release Year</th>\n",
       "      <th>Sales (in millions)</th>\n",
       "      <th>Popularity</th>\n",
       "    </tr>\n",
       "  </thead>\n",
       "  <tbody>\n",
       "    <tr>\n",
       "      <th>1</th>\n",
       "      <td>Bing Crosby</td>\n",
       "      <td>White Christmas</td>\n",
       "      <td>1942</td>\n",
       "      <td>50.0</td>\n",
       "      <td>72</td>\n",
       "    </tr>\n",
       "    <tr>\n",
       "      <th>2</th>\n",
       "      <td>Elton John</td>\n",
       "      <td>Candle in the Wind 1997 / Something About the ...</td>\n",
       "      <td>1997</td>\n",
       "      <td>33.0</td>\n",
       "      <td>60</td>\n",
       "    </tr>\n",
       "    <tr>\n",
       "      <th>3</th>\n",
       "      <td>Mungo Jerry</td>\n",
       "      <td>In the Summertime</td>\n",
       "      <td>1970</td>\n",
       "      <td>30.0</td>\n",
       "      <td>67</td>\n",
       "    </tr>\n",
       "    <tr>\n",
       "      <th>4</th>\n",
       "      <td>Bing Crosby</td>\n",
       "      <td>Silent Night</td>\n",
       "      <td>1935</td>\n",
       "      <td>30.0</td>\n",
       "      <td>47</td>\n",
       "    </tr>\n",
       "    <tr>\n",
       "      <th>5</th>\n",
       "      <td>Bill Haley &amp; His Comets</td>\n",
       "      <td>Rock Around the Clock</td>\n",
       "      <td>1954</td>\n",
       "      <td>25.0</td>\n",
       "      <td>61</td>\n",
       "    </tr>\n",
       "  </tbody>\n",
       "</table>\n",
       "</div>"
      ],
      "text/plain": [
       "                    Artist                                             Single  \\\n",
       "1              Bing Crosby                                    White Christmas   \n",
       "2               Elton John  Candle in the Wind 1997 / Something About the ...   \n",
       "3              Mungo Jerry                                  In the Summertime   \n",
       "4              Bing Crosby                                       Silent Night   \n",
       "5  Bill Haley & His Comets                              Rock Around the Clock   \n",
       "\n",
       "   Release Year  Sales (in millions)  Popularity  \n",
       "1          1942                 50.0          72  \n",
       "2          1997                 33.0          60  \n",
       "3          1970                 30.0          67  \n",
       "4          1935                 30.0          47  \n",
       "5          1954                 25.0          61  "
      ]
     },
     "execution_count": 101,
     "metadata": {},
     "output_type": "execute_result"
    }
   ],
   "source": [
    "#concatenate results, and start index at 1\n",
    "wiki_and_spotify = pd.concat([top100singles,df],axis=1)\n",
    "wiki_and_spotify.index += 1\n",
    "wiki_and_spotify = wiki_and_spotify[['Artist','Single','Release Year','Sales (in millions)','Popularity']]\n",
    "wiki_and_spotify.head()"
   ]
  },
  {
   "cell_type": "code",
   "execution_count": 104,
   "metadata": {},
   "outputs": [],
   "source": [
    "#output sinlges joined results to csv\n",
    "wiki_and_spotify.to_csv('top100_singles_output.csv',index=False)"
   ]
  },
  {
   "cell_type": "code",
   "execution_count": 29,
   "metadata": {},
   "outputs": [
    {
     "data": {
      "image/png": "[encoded data removed]",
      "text/plain": [
       "<Figure size 432x288 with 1 Axes>"
      ]
     },
     "metadata": {},
     "output_type": "display_data"
    }
   ],
   "source": [
    "#plot Popularity (0-100) to Rank on All Time Singles List\n",
    "wiki_and_spotify.reset_index().plot(x='index',y='Popularity',kind='scatter').set_xlabel(\"\")\n",
    "plt.show()"
   ]
  },
  {
   "cell_type": "code",
   "execution_count": 28,
   "metadata": {},
   "outputs": [
    {
     "data": {
      "image/png": "[encoded data removed]",
      "text/plain": [
       "<Figure size 432x288 with 1 Axes>"
      ]
     },
     "metadata": {},
     "output_type": "display_data"
    }
   ],
   "source": [
    "#plot Popularity against release year\n",
    "wiki_and_spotify.reset_index().plot(x='Release Year',y='Popularity',kind='scatter')\n",
    "plt.show()"
   ]
  },
  {
   "cell_type": "code",
   "execution_count": null,
   "metadata": {},
   "outputs": [],
   "source": [
    "#Read in csv of Singles and convert to DataFrame\n",
    "top100artists = pd.read_csv('top100artists.csv')\n",
    "list_of_dicts = []\n",
    "count = 0\n",
    "\n",
    "#Loop Through all Singles in top100 singles csv\n",
    "for index,row in top100artists.iterrows():\n",
    "    artist = row['Artist']\n",
    "    results = spotify.search(q=artist, type='artist',limit=1)\n",
    "    \n",
    "    temp = {}\n",
    "    temp['name'] = results['artists']['items'][0]['name']\n",
    "    temp['popularity'] = results['artists']['items'][0]['popularity']\n",
    "\n",
    "    list_of_dicts.append(temp)"
   ]
  },
  {
   "cell_type": "code",
   "execution_count": null,
   "metadata": {},
   "outputs": [],
   "source": [
    "top100_artists_df = pd.DataFrame(list_of_dicts)\n",
    "top100_artists_df"
   ]
  },
  {
   "cell_type": "code",
   "execution_count": 102,
   "metadata": {},
   "outputs": [
    {
     "data": {
      "text/html": [
       "<div>\n",
       "<style scoped>\n",
       "    .dataframe tbody tr th:only-of-type {\n",
       "        vertical-align: middle;\n",
       "    }\n",
       "\n",
       "    .dataframe tbody tr th {\n",
       "        vertical-align: top;\n",
       "    }\n",
       "\n",
       "    .dataframe thead th {\n",
       "        text-align: right;\n",
       "    }\n",
       "</style>\n",
       "<table border=\"1\" class=\"dataframe\">\n",
       "  <thead>\n",
       "    <tr style=\"text-align: right;\">\n",
       "      <th></th>\n",
       "      <th>Artist</th>\n",
       "      <th>Sales</th>\n",
       "      <th>popularity</th>\n",
       "      <th>Country</th>\n",
       "      <th>Formation</th>\n",
       "      <th>End</th>\n",
       "      <th>Genre</th>\n",
       "    </tr>\n",
       "  </thead>\n",
       "  <tbody>\n",
       "    <tr>\n",
       "      <th>1</th>\n",
       "      <td>The Beatles</td>\n",
       "      <td>600</td>\n",
       "      <td>90</td>\n",
       "      <td>United Kingdom</td>\n",
       "      <td>1960</td>\n",
       "      <td>1970</td>\n",
       "      <td>Rock</td>\n",
       "    </tr>\n",
       "    <tr>\n",
       "      <th>2</th>\n",
       "      <td>Elvis Presley</td>\n",
       "      <td>600</td>\n",
       "      <td>81</td>\n",
       "      <td>United States</td>\n",
       "      <td>1954</td>\n",
       "      <td>1977</td>\n",
       "      <td>Rock and roll</td>\n",
       "    </tr>\n",
       "    <tr>\n",
       "      <th>3</th>\n",
       "      <td>Michael Jackson</td>\n",
       "      <td>350</td>\n",
       "      <td>85</td>\n",
       "      <td>United States</td>\n",
       "      <td>1964</td>\n",
       "      <td>2009</td>\n",
       "      <td>Pop</td>\n",
       "    </tr>\n",
       "    <tr>\n",
       "      <th>4</th>\n",
       "      <td>Elton John</td>\n",
       "      <td>300</td>\n",
       "      <td>85</td>\n",
       "      <td>United Kingdom</td>\n",
       "      <td>1964</td>\n",
       "      <td>2019</td>\n",
       "      <td>Pop</td>\n",
       "    </tr>\n",
       "    <tr>\n",
       "      <th>5</th>\n",
       "      <td>Madonna</td>\n",
       "      <td>300</td>\n",
       "      <td>80</td>\n",
       "      <td>United States</td>\n",
       "      <td>1979</td>\n",
       "      <td>2019</td>\n",
       "      <td>Pop</td>\n",
       "    </tr>\n",
       "  </tbody>\n",
       "</table>\n",
       "</div>"
      ],
      "text/plain": [
       "            Artist  Sales  popularity         Country  Formation   End  \\\n",
       "1      The Beatles    600          90  United Kingdom       1960  1970   \n",
       "2    Elvis Presley    600          81   United States       1954  1977   \n",
       "3  Michael Jackson    350          85   United States       1964  2009   \n",
       "4       Elton John    300          85  United Kingdom       1964  2019   \n",
       "5          Madonna    300          80   United States       1979  2019   \n",
       "\n",
       "            Genre  \n",
       "1           Rock   \n",
       "2  Rock and roll   \n",
       "3            Pop   \n",
       "4            Pop   \n",
       "5            Pop   "
      ]
     },
     "execution_count": 102,
     "metadata": {},
     "output_type": "execute_result"
    }
   ],
   "source": [
    "top100_artists_joined = pd.concat([top100_artists_df,top100artists],axis=1)\n",
    "top100_artists_joined.index+=1\n",
    "top100_artists_joined = top100_artists_joined[['Artist','Sales','popularity','Country','Formation','End','Genre']]\n",
    "top100_artists_joined.head()"
   ]
  },
  {
   "cell_type": "code",
   "execution_count": 100,
   "metadata": {},
   "outputs": [
    {
     "data": {
      "image/png": "[encoded data removed]",
      "text/plain": [
       "<Figure size 432x288 with 1 Axes>"
      ]
     },
     "metadata": {},
     "output_type": "display_data"
    }
   ],
   "source": [
    "top100_artists_joined.plot(x='Formation',y='popularity',kind='scatter')\n",
    "plt.show()"
   ]
  },
  {
   "cell_type": "code",
   "execution_count": 103,
   "metadata": {},
   "outputs": [],
   "source": [
    "top100_artists_joined.to_csv('top100_artist_output.csv',index=False)"
   ]
  }
 ],
 "metadata": {
  "kernelspec": {
   "display_name": "Python 3",
   "language": "python",
   "name": "python3"
  },
  "language_info": {
   "codemirror_mode": {
    "name": "ipython",
    "version": 3
   },
   "file_extension": ".py",
   "mimetype": "text/x-python",
   "name": "python",
   "nbconvert_exporter": "python",
   "pygments_lexer": "ipython3",
   "version": "3.7.3"
  }
 },
 "nbformat": 4,
 "nbformat_minor": 4
}
